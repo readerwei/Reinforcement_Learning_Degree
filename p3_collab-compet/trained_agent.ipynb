{
 "cells": [
  {
   "cell_type": "code",
   "execution_count": 1,
   "metadata": {},
   "outputs": [
    {
     "name": "stderr",
     "output_type": "stream",
     "text": [
      "INFO:unityagents:\n",
      "'Academy' started successfully!\n",
      "Unity Academy name: Academy\n",
      "        Number of Brains: 1\n",
      "        Number of External Brains : 1\n",
      "        Lesson number : 0\n",
      "        Reset Parameters :\n",
      "\t\t\n",
      "Unity brain name: TennisBrain\n",
      "        Number of Visual Observations (per agent): 0\n",
      "        Vector Observation space type: continuous\n",
      "        Vector Observation space size (per agent): 8\n",
      "        Number of stacked Vector Observation: 3\n",
      "        Vector Action space type: continuous\n",
      "        Vector Action space size (per agent): 2\n",
      "        Vector Action descriptions: , \n"
     ]
    }
   ],
   "source": [
    "from unityagents import UnityEnvironment\n",
    "import numpy as np\n",
    "import matplotlib.pyplot as plt\n",
    "import torch\n",
    "from networkforall import Network\n",
    "\n",
    "env = UnityEnvironment(file_name=\"Tennis_Windows_x86_64/Tennis.exe\")\n",
    "\n",
    "# get the default brain\n",
    "brain_name = env.brain_names[0]\n",
    "brain = env.brains[brain_name]"
   ]
  },
  {
   "cell_type": "code",
   "execution_count": 2,
   "metadata": {},
   "outputs": [
    {
     "data": {
      "text/plain": [
       "Network(\n",
       "  (fc1): Linear(in_features=24, out_features=512, bias=True)\n",
       "  (fc2): Linear(in_features=512, out_features=256, bias=True)\n",
       "  (fc3): Linear(in_features=256, out_features=2, bias=True)\n",
       ")"
      ]
     },
     "execution_count": 2,
     "metadata": {},
     "output_type": "execute_result"
    }
   ],
   "source": [
    "actor_0 = Network(24, 512, 256, 2, actor=True)\n",
    "actor_1 = Network(24, 512, 256, 2, actor=True)\n",
    "\n",
    "checkpoint = torch.load('model_final/episode-8500.pt')\n",
    "actor_0.load_state_dict(checkpoint[0]['actor_params'])\n",
    "actor_1.load_state_dict(checkpoint[1]['actor_params'])\n",
    "actor_0.eval()\n",
    "actor_1.eval()"
   ]
  },
  {
   "cell_type": "markdown",
   "metadata": {},
   "source": [
    "Note that when invoking the trained agent, only **actors** are needed. "
   ]
  },
  {
   "cell_type": "code",
   "execution_count": 4,
   "metadata": {},
   "outputs": [
    {
     "name": "stdout",
     "output_type": "stream",
     "text": [
      "[1.87870003 1.88530003]\n"
     ]
    }
   ],
   "source": [
    "rewards_overall = np.zeros(2)\n",
    "\n",
    "for episode in range(100):\n",
    "    env_info = env.reset(train_mode=True)[brain_name]\n",
    "    states = env_info.vector_observations\n",
    "    obs = [agent_obs for agent_obs in states]\n",
    "    \n",
    "    for episode_t in range(1000):\n",
    "\n",
    "        agent_0_action = actor_0(torch.from_numpy(obs[0]).float()).detach().numpy()\n",
    "        agent_1_action = actor_1(torch.from_numpy(obs[1]).float()).detach().numpy()\n",
    "        \n",
    "        actions_array = np.stack([agent_0_action,agent_1_action])\n",
    "        \n",
    "        env_info = env.step(actions_array)[brain_name]  \n",
    "\n",
    "        next_states = env_info.vector_observations\n",
    "        next_obs = [agent_obs for agent_obs in next_states]\n",
    "\n",
    "        rewards = np.array(env_info.rewards)\n",
    "        \n",
    "        dones = np.array(env_info.local_done)\n",
    "\n",
    "        obs = next_obs\n",
    "        \n",
    "        rewards_overall += rewards\n",
    "        \n",
    "        if np.any(dones):\n",
    "            break\n",
    "            \n",
    "print(rewards_overall/(episode+1)) # average rewards"
   ]
  },
  {
   "cell_type": "code",
   "execution_count": 5,
   "metadata": {},
   "outputs": [],
   "source": [
    "env.close()"
   ]
  }
 ],
 "metadata": {
  "kernelspec": {
   "display_name": "udacity",
   "language": "python",
   "name": "udacity"
  },
  "language_info": {
   "codemirror_mode": {
    "name": "ipython",
    "version": 3
   },
   "file_extension": ".py",
   "mimetype": "text/x-python",
   "name": "python",
   "nbconvert_exporter": "python",
   "pygments_lexer": "ipython3",
   "version": "3.6.12"
  }
 },
 "nbformat": 4,
 "nbformat_minor": 4
}
