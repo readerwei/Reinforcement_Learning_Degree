{
 "cells": [
  {
   "cell_type": "code",
   "execution_count": 2,
   "metadata": {},
   "outputs": [],
   "source": [
    "%load_ext tensorboard.notebook"
   ]
  },
  {
   "cell_type": "code",
   "execution_count": 3,
   "metadata": {},
   "outputs": [
    {
     "data": {
      "text/plain": [
       "'C:\\\\Users\\\\weizh\\\\OneDrive\\\\Documents\\\\GitHub\\\\Reinforcement_Learning_Degree\\\\p3_collab-compet'"
      ]
     },
     "execution_count": 3,
     "metadata": {},
     "output_type": "execute_result"
    }
   ],
   "source": [
    "import os\n",
    "cwd = os.getcwd()\n",
    "cwd"
   ]
  },
  {
   "cell_type": "code",
   "execution_count": 4,
   "metadata": {},
   "outputs": [
    {
     "data": {
      "text/plain": [
       "ERROR: Failed to launch TensorBoard (exited with 1).\n",
       "Contents of stderr:\n",
       "Traceback (most recent call last):\n",
       "  File \"c:\\users\\weizh\\anaconda3\\envs\\drlnd\\lib\\runpy.py\", line 193, in _run_module_as_main\n",
       "    \"__main__\", mod_spec)\n",
       "  File \"c:\\users\\weizh\\anaconda3\\envs\\drlnd\\lib\\runpy.py\", line 85, in _run_code\n",
       "    exec(code, run_globals)\n",
       "  File \"C:\\Users\\weizh\\Anaconda3\\envs\\drlnd\\Scripts\\tensorboard.exe\\__main__.py\", line 4, in <module>\n",
       "  File \"c:\\users\\weizh\\anaconda3\\envs\\drlnd\\lib\\site-packages\\tensorboard\\main.py\", line 43, in <module>\n",
       "    from tensorboard import default\n",
       "  File \"c:\\users\\weizh\\anaconda3\\envs\\drlnd\\lib\\site-packages\\tensorboard\\default.py\", line 36, in <module>\n",
       "    from tensorboard.plugins.audio import audio_plugin\n",
       "  File \"c:\\users\\weizh\\anaconda3\\envs\\drlnd\\lib\\site-packages\\tensorboard\\plugins\\audio\\audio_plugin.py\", line 27, in <module>\n",
       "    from tensorboard.data import provider\n",
       "  File \"c:\\users\\weizh\\anaconda3\\envs\\drlnd\\lib\\site-packages\\tensorboard\\data\\__init__.py\", line 20, in <module>\n",
       "    from tensorboard.data import experimental  # noqa: F401\n",
       "  File \"c:\\users\\weizh\\anaconda3\\envs\\drlnd\\lib\\site-packages\\tensorboard\\data\\experimental\\__init__.py\", line 20, in <module>\n",
       "    from tensorboard.data.experimental.experiment_from_dev import (  # noqa: F401\n",
       "  File \"c:\\users\\weizh\\anaconda3\\envs\\drlnd\\lib\\site-packages\\tensorboard\\data\\experimental\\experiment_from_dev.py\", line 25, in <module>\n",
       "    import numpy as np\n",
       "  File \"c:\\users\\weizh\\anaconda3\\envs\\drlnd\\lib\\site-packages\\numpy\\__init__.py\", line 305, in <module>\n",
       "    _win_os_check()\n",
       "  File \"c:\\users\\weizh\\anaconda3\\envs\\drlnd\\lib\\site-packages\\numpy\\__init__.py\", line 302, in _win_os_check\n",
       "    raise RuntimeError(msg.format(__file__)) from None\n",
       "RuntimeError: The current Numpy installation ('c:\\\\users\\\\weizh\\\\anaconda3\\\\envs\\\\drlnd\\\\lib\\\\site-packages\\\\numpy\\\\__init__.py') fails to pass a sanity check due to a bug in the windows runtime. See this issue for more information: https://tinyurl.com/y3dm3h86"
      ]
     },
     "metadata": {},
     "output_type": "display_data"
    }
   ],
   "source": [
    "%tensorboard  --port 6009"
   ]
  },
  {
   "cell_type": "code",
   "execution_count": null,
   "metadata": {},
   "outputs": [],
   "source": []
  }
 ],
 "metadata": {
  "kernelspec": {
   "display_name": "drlnd",
   "language": "python",
   "name": "drlnd"
  },
  "language_info": {
   "codemirror_mode": {
    "name": "ipython",
    "version": 3
   },
   "file_extension": ".py",
   "mimetype": "text/x-python",
   "name": "python",
   "nbconvert_exporter": "python",
   "pygments_lexer": "ipython3",
   "version": "3.7.3"
  }
 },
 "nbformat": 4,
 "nbformat_minor": 2
}
